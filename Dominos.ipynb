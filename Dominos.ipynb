{
 "cells": [
  {
   "cell_type": "code",
   "execution_count": 1,
   "metadata": {},
   "outputs": [],
   "source": [
    "from time import time"
   ]
  },
  {
   "cell_type": "code",
   "execution_count": 2,
   "metadata": {},
   "outputs": [],
   "source": [
    "from random import random, randint\n",
    "from multiprocessing.dummy import Pool as ThreadPool "
   ]
  },
  {
   "cell_type": "code",
   "execution_count": 5,
   "metadata": {},
   "outputs": [],
   "source": [
    "def rl(x):\n",
    "    return range(len(x))\n",
    "\n",
    "def deal(rand=True):\n",
    "    dom = []\n",
    "    for i in range(7):\n",
    "        for j in range(i,7):\n",
    "            dom.append((i,j))\n",
    "    if rand:\n",
    "        dom = sorted(dom, key=lambda x: random())\n",
    "    p = []\n",
    "    for i in range(4):\n",
    "        p.append(dom[i*7:(i+1)*7])\n",
    "    return p\n",
    "\n",
    "def find(ps, a, b):  ### could intergrate moves\n",
    "    for p in range(4):\n",
    "        if (a, b) in ps[p]:\n",
    "            return p, ps[p].index((a,b))\n",
    "        if (b, a) in ps[p]:\n",
    "            return p, ps[p].index((a,b))\n",
    "        \n",
    "def pprint(ps):\n",
    "    for p in ps:\n",
    "        print(p)\n",
    "\n",
    "def make_moves(ps):\n",
    "    m = []\n",
    "    for pl in ps: #players\n",
    "        m.append({})\n",
    "        for i in range(7): #nums\n",
    "            m[-1][i] = []\n",
    "            for j in rl(pl): #st\n",
    "                if pl[j][0] == i:\n",
    "                    m[-1][i].append((j, pl[j][1]))\n",
    "                elif pl[j][1] == i:\n",
    "                    m[-1][i].append((j, pl[j][0]))\n",
    "    return m\n",
    "\n",
    "def turn(p, b):\n",
    "    st = moves[p][b[0]]\n",
    "    left = len(st)\n",
    "    \n",
    "    if b[0]!=b[1]:\n",
    "        st += moves[p][b[1]]\n",
    "    for s in range(len(st)-1, -1, -1):\n",
    "        if st[s][0] in used[p]:\n",
    "            st.pop(s)\n",
    "    if len(st) == 0:\n",
    "        return b, False  #did not place\n",
    "    \n",
    "    ### branches\n",
    "    #x = choose(pl, st)\n",
    "    x = randint(0, len(st)-1)\n",
    "    \n",
    "    used[p].append(st[x][0]) #use up index\n",
    "    if x < left:\n",
    "        b[0] = st[x][1]\n",
    "    else:\n",
    "        b[1] = st[x][1]\n",
    "\n",
    "    return b, True        #did place\n",
    "\n",
    "def choose(st):\n",
    "    ### random\n",
    "    x = st[randint(0, len(st)-1)]\n",
    "    \n",
    "    ### order\n",
    "    # x = st[0]\n",
    "    \n",
    "    return x\n",
    "    \n",
    "def place():\n",
    "    poss = []\n",
    "    \n",
    "    if x[0] == b[0]:\n",
    "        poss.append([x[1], b[1]])\n",
    "    if x[1] == b[0]:\n",
    "        poss.append([x[0], b[1]])\n",
    "    if x[0] == b[1]:\n",
    "        poss.append([b[0], x[1]])\n",
    "    if x[1] == b[1]:\n",
    "        poss.append([b[0], x[0]])\n",
    "    return poss[randint(0,len(poss)-1)]\n",
    "    \n",
    "def play(ps, pr=False):\n",
    "    global moves\n",
    "    moves = make_moves(ps_)\n",
    "    \n",
    "    global dran, used\n",
    "    used = ([],[],[],[])\n",
    "    dran, i = find(ps, 6, 6) \n",
    "    \n",
    "    used[dran].append(i)\n",
    "    b = [6, 6]\n",
    "    \n",
    "    last = dran\n",
    "    while True:\n",
    "        dran = (dran+1)%4\n",
    "        b, placed = turn(dran, b)\n",
    "        if len(used[dran])==7: # finished\n",
    "            if pr:\n",
    "                print(used)\n",
    "            return dran\n",
    "        if placed:\n",
    "            last = dran\n",
    "        elif last==dran: # stuck\n",
    "            if pr:\n",
    "                print(used)\n",
    "            return -1\n",
    "    \n",
    "\n",
    "def play_n(ps_, games=10000, it=1):\n",
    "    #perc = []\n",
    "    for _ in range(it):\n",
    "        wins = [0,0,0,0,0]\n",
    "        for _ in range(games):\n",
    "            ps = [p.copy() for p in ps_]\n",
    "            wins[play(ps)] += 1  # play the game\n",
    "        #perc.append([round(i/games*100,2) for i in wins])\n",
    "        print([round(i/games*100,2) for i in wins])\n",
    "        #print(perc[-1])\n",
    "    "
   ]
  },
  {
   "cell_type": "code",
   "execution_count": 14,
   "metadata": {},
   "outputs": [
    {
     "name": "stdout",
     "output_type": "stream",
     "text": [
      "[(0, 0), (0, 1), (0, 2), (0, 3), (0, 4), (0, 5), (0, 6)]\n",
      "[(1, 1), (1, 2), (1, 3), (1, 4), (1, 5), (1, 6), (2, 2)]\n",
      "[(2, 3), (2, 4), (2, 5), (2, 6), (3, 3), (3, 4), (3, 5)]\n",
      "[(3, 6), (4, 4), (4, 5), (4, 6), (5, 5), (5, 6), (6, 6)]\n"
     ]
    }
   ],
   "source": [
    "ps_ = deal(0)\n",
    "pprint(ps_)"
   ]
  },
  {
   "cell_type": "code",
   "execution_count": 16,
   "metadata": {
    "scrolled": true
   },
   "outputs": [
    {
     "name": "stdout",
     "output_type": "stream",
     "text": [
      "[25.03, 44.53, 8.05, 7.97, 14.42]\n",
      "1.820970058441162\n",
      "[25.53, 45.08, 8.14, 7.81, 13.44]\n",
      "1.8138518333435059\n",
      "[25.81, 44.62, 7.8, 8.24, 13.53]\n",
      "2.005307197570801\n",
      "[25.72, 44.96, 8.06, 7.7, 13.56]\n",
      "1.8987598419189453\n",
      "[24.92, 45.26, 7.81, 8.04, 13.97]\n",
      "2.5690488815307617\n"
     ]
    }
   ],
   "source": [
    "times = []\n",
    "for i in range(5):\n",
    "    t = time()\n",
    "    play_n(ps_, 10000)\n",
    "    times.append(time() - t)\n",
    "    print(times[-1])"
   ]
  },
  {
   "cell_type": "code",
   "execution_count": 23,
   "metadata": {
    "scrolled": false
   },
   "outputs": [
    {
     "name": "stdout",
     "output_type": "stream",
     "text": [
      "[17.54, 9.75, 16.51, 28.72, 27.48]\n",
      "24.246249198913574\n",
      "[17.28, 9.85, 16.41, 28.92, 27.54]\n",
      "21.971113920211792\n",
      "[17.38, 9.8, 16.29, 28.81, 27.73]\n",
      "22.702757835388184\n",
      "[17.49, 9.71, 16.4, 28.89, 27.51]\n",
      "23.35765290260315\n",
      "[17.33, 9.69, 16.66, 28.9, 27.43]\n",
      "24.230417728424072\n",
      "[17.3, 9.75, 16.5, 28.9, 27.55]\n",
      "25.999125003814697\n",
      "[17.27, 9.73, 16.72, 28.61, 27.67]\n",
      "28.580909252166748\n",
      "[17.45, 9.74, 16.44, 28.69, 27.69]\n",
      "30.287203073501587\n",
      "[17.26, 9.81, 16.55, 28.8, 27.57]\n",
      "36.712064027786255\n",
      "[17.42, 9.68, 16.55, 28.81, 27.53]\n",
      "29.67940402030945\n"
     ]
    }
   ],
   "source": [
    "times = []\n",
    "for i in range(10):\n",
    "    t = time()\n",
    "    play_n(ps_, 100000)\n",
    "    times.append(time() - t)\n",
    "    print(times[-1])"
   ]
  },
  {
   "cell_type": "code",
   "execution_count": 57,
   "metadata": {
    "collapsed": true
   },
   "outputs": [
    {
     "ename": "NameError",
     "evalue": "name 'ps_' is not defined",
     "output_type": "error",
     "traceback": [
      "\u001b[0;31m---------------------------------------------------------------------------\u001b[0m",
      "\u001b[0;31mNameError\u001b[0m                                 Traceback (most recent call last)",
      "\u001b[0;32m<ipython-input-57-409e195d9ed3>\u001b[0m in \u001b[0;36m<module>\u001b[0;34m()\u001b[0m\n\u001b[0;32m----> 1\u001b[0;31m \u001b[0;34m[\u001b[0m\u001b[0mlen\u001b[0m\u001b[0;34m(\u001b[0m\u001b[0mlist\u001b[0m\u001b[0;34m(\u001b[0m\u001b[0mfilter\u001b[0m\u001b[0;34m(\u001b[0m\u001b[0;32mlambda\u001b[0m \u001b[0mx\u001b[0m\u001b[0;34m:\u001b[0m \u001b[0mx\u001b[0m\u001b[0;34m[\u001b[0m\u001b[0;36m0\u001b[0m\u001b[0;34m]\u001b[0m\u001b[0;34m==\u001b[0m\u001b[0mx\u001b[0m\u001b[0;34m[\u001b[0m\u001b[0;36m1\u001b[0m\u001b[0;34m]\u001b[0m\u001b[0;34m,\u001b[0m \u001b[0mp\u001b[0m\u001b[0;34m)\u001b[0m\u001b[0;34m)\u001b[0m\u001b[0;34m)\u001b[0m \u001b[0;32mfor\u001b[0m \u001b[0mp\u001b[0m \u001b[0;32min\u001b[0m \u001b[0mps_\u001b[0m\u001b[0;34m]\u001b[0m \u001b[0;31m#mule count\u001b[0m\u001b[0;34m\u001b[0m\u001b[0m\n\u001b[0m",
      "\u001b[0;31mNameError\u001b[0m: name 'ps_' is not defined"
     ]
    }
   ],
   "source": [
    "[len(list(filter(lambda x: x[0]==x[1], p))) for p in ps_] #mule count"
   ]
  },
  {
   "cell_type": "code",
   "execution_count": 68,
   "metadata": {},
   "outputs": [
    {
     "data": {
      "text/plain": [
       "[4, 69, 20, 5, 2]"
      ]
     },
     "execution_count": 68,
     "metadata": {},
     "output_type": "execute_result"
    }
   ],
   "source": [
    "[x.count(i) for i in range(-1,4)]"
   ]
  },
  {
   "cell_type": "code",
   "execution_count": 53,
   "metadata": {},
   "outputs": [
    {
     "data": {
      "text/plain": [
       "3.5578298568725586"
      ]
     },
     "execution_count": 53,
     "metadata": {},
     "output_type": "execute_result"
    }
   ],
   "source": [
    "pool = ThreadPool(1)\n",
    "c = time()\n",
    "pool.map(sq, [random() for _ in range(10000000)])\n",
    "time() - c"
   ]
  },
  {
   "cell_type": "code",
   "execution_count": null,
   "metadata": {},
   "outputs": [],
   "source": []
  },
  {
   "cell_type": "code",
   "execution_count": 243,
   "metadata": {},
   "outputs": [],
   "source": [
    "wins = [0,0,0,0,0]"
   ]
  },
  {
   "cell_type": "code",
   "execution_count": 256,
   "metadata": {},
   "outputs": [],
   "source": [
    "games = 10000"
   ]
  },
  {
   "cell_type": "code",
   "execution_count": 257,
   "metadata": {
    "scrolled": false
   },
   "outputs": [],
   "source": [
    "for _ in range(games):\n",
    "    ps = [p.copy() for p in ps_]\n",
    "    wins[play(ps)] += 1"
   ]
  },
  {
   "cell_type": "code",
   "execution_count": 158,
   "metadata": {},
   "outputs": [
    {
     "name": "stdout",
     "output_type": "stream",
     "text": [
      "(0, 1)\n",
      "[(0, 0), (0, 2), (0, 3), (0, 4), (0, 5), (0, 6)]\n"
     ]
    }
   ],
   "source": [
    "turn(ps[0], [1,1])"
   ]
  },
  {
   "cell_type": "code",
   "execution_count": null,
   "metadata": {},
   "outputs": [],
   "source": []
  },
  {
   "cell_type": "code",
   "execution_count": 103,
   "metadata": {},
   "outputs": [],
   "source": [
    "### old version\n",
    "\n",
    "\n",
    "def get(pl, b):\n",
    "    st = set()\n",
    "    for t in set(b):\n",
    "        for i in rl(pl):\n",
    "            if pl[i][0] == t or pl[i][1] == t:\n",
    "                st.update({i})\n",
    "    return list(st)\n",
    "\n",
    "def turn(pl, b):\n",
    "    st = get(pl, b)\n",
    "    if len(st) == 0:\n",
    "        return b, False  #did not place\n",
    "    \n",
    "    ### branches\n",
    "    x = choose(pl, st)\n",
    "    b = place(x, b)\n",
    "    ###\n",
    "\n",
    "    return b, True        #did place\n",
    "\n",
    "def place(x, b):\n",
    "    if x[0] == x[1]: #mule\n",
    "        return b #board doesn't change\n",
    "    \n",
    "    poss = []\n",
    "    \n",
    "    if x[0] == b[0]:\n",
    "        poss.append([x[1], b[1]])\n",
    "    if x[1] == b[0]:\n",
    "        poss.append([x[0], b[1]])\n",
    "    if x[0] == b[1]:\n",
    "        poss.append([b[0], x[1]])\n",
    "    if x[1] == b[1]:\n",
    "        poss.append([b[0], x[0]])\n",
    "    return poss[randint(0,len(poss)-1)]\n",
    "\n",
    "def play(ps):\n",
    "    global dran\n",
    "    dran, i = find(ps, 6, 6) \n",
    "    #print(dran, i)\n",
    "    b = ps[dran].pop(i)\n",
    "    last = dran\n",
    "    while True:\n",
    "        dran = (dran+1)%4\n",
    "        b, placed = turn(ps[dran], b)\n",
    "        if not ps[dran]: # finished\n",
    "            return dran\n",
    "        if placed:\n",
    "            last = dran\n",
    "        elif last==dran: # stuck\n",
    "            return -1\n",
    "    #pprint(ps)\n",
    "    #print(b)\n",
    "\n",
    "def play_n(ps_, games=10000, it=1):\n",
    "    perc = []\n",
    "    for _ in range(it):\n",
    "        wins = [0,0,0,0,0]\n",
    "        for _ in range(games):\n",
    "            ps = [p.copy() for p in ps_]\n",
    "            wins[play(ps)] += 1\n",
    "        perc.append([round(i/games*100,2) for i in wins])\n",
    "        print(perc[-1])\n"
   ]
  },
  {
   "cell_type": "code",
   "execution_count": null,
   "metadata": {},
   "outputs": [],
   "source": []
  }
 ],
 "metadata": {
  "kernelspec": {
   "display_name": "Python 3",
   "language": "python",
   "name": "python3"
  },
  "language_info": {
   "codemirror_mode": {
    "name": "ipython",
    "version": 3
   },
   "file_extension": ".py",
   "mimetype": "text/x-python",
   "name": "python",
   "nbconvert_exporter": "python",
   "pygments_lexer": "ipython3",
   "version": "3.6.4"
  }
 },
 "nbformat": 4,
 "nbformat_minor": 2
}
