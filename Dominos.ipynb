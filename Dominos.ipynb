{
 "cells": [
  {
   "cell_type": "code",
   "execution_count": 1,
   "metadata": {},
   "outputs": [],
   "source": [
    "from time import time"
   ]
  },
  {
   "cell_type": "code",
   "execution_count": 2,
   "metadata": {},
   "outputs": [],
   "source": [
    "from random import random, randint\n",
    "#from multiprocessing.dummy import Pool as ThreadPool "
   ]
  },
  {
   "cell_type": "code",
   "execution_count": 228,
   "metadata": {},
   "outputs": [],
   "source": [
    "COUNT = 7\n",
    "PLAYERS = 3"
   ]
  },
  {
   "cell_type": "code",
   "execution_count": 202,
   "metadata": {},
   "outputs": [],
   "source": [
    "def rl(x):\n",
    "    return range(len(x))\n",
    "\n",
    "def deal(rand=True):\n",
    "    dom = []\n",
    "    for i in range(COUNT):\n",
    "        for j in range(i,COUNT):\n",
    "            dom.append((i,j))\n",
    "    if rand:\n",
    "        dom = sorted(dom, key=lambda x: random())\n",
    "    p = []\n",
    "    for i in range(4):\n",
    "        p.append(dom[i*COUNT:(i+1)*COUNT])\n",
    "    return p\n",
    "\n",
    "def find(ps, a, b):  ### could intergrate moves\n",
    "    for p in range(4):\n",
    "        if (a, b) in ps[p]:\n",
    "            return p, ps[p].index((a,b))\n",
    "        if (b, a) in ps[p]:\n",
    "            return p, ps[p].index((a,b))\n",
    "        \n",
    "def pprint(ps):\n",
    "    for p in ps:\n",
    "        print(p)\n",
    "\n",
    "def make_moves(ps):\n",
    "    m = {}\n",
    "    for e, pl in enumerate(ps): #players\n",
    "        m[e] = {}\n",
    "        for i in range(COUNT): #nums\n",
    "            m[e][i] = []\n",
    "            m[e][-1] = len(pl) #number of starting pieces\n",
    "            for j in rl(pl): #st\n",
    "                if pl[j][0] == i:\n",
    "                    m[e][i].append((j, pl[j][1]))\n",
    "                elif pl[j][1] == i:\n",
    "                    m[e][i].append((j, pl[j][0]))\n",
    "    return m\n",
    "\n",
    "def turn(p, b, pr):\n",
    "    global ps_\n",
    "    st = moves[p][b[0]].copy()\n",
    "    for s in range(len(st)-1, -1, -1):\n",
    "        if st[s][0] in used[p]:\n",
    "            st.pop(s)\n",
    "    \n",
    "    left = len(st)\n",
    "    \n",
    "    if b[0]!=b[1]:\n",
    "        st += moves[p][b[1]]\n",
    "    for s in range(len(st)-1, left-1, -1):\n",
    "        if st[s][0] in used[p]:\n",
    "            st.pop(s)\n",
    "            \n",
    "    if len(st) == 0:\n",
    "        return b, False  #did not place\n",
    "    \n",
    "    ### branches\n",
    "    #x = choose(pl, st)\n",
    "    x = randint(0, len(st)-1)\n",
    "    \n",
    "    used[p].append(st[x][0]) #use up index\n",
    "    if x < left:\n",
    "        b[0] = st[x][1]\n",
    "    else:\n",
    "        b[1] = st[x][1]\n",
    "    return b, True        #did place\n",
    "\n",
    "def choose(st):\n",
    "    ### random\n",
    "    x = st[randint(0, len(st)-1)]\n",
    "    \n",
    "    ### order\n",
    "    # x = st[0]\n",
    "    \n",
    "    return x\n",
    "    \n",
    "    \n",
    "def play(ps, pr=False, start=[6,6]):\n",
    "    global moves\n",
    "    global dran, used\n",
    "    used = ([],[],[],[])\n",
    "    dran, i = find(ps, *start) \n",
    "    \n",
    "    used[dran].append(i)\n",
    "    b = start\n",
    "    \n",
    "    last = dran\n",
    "    while True:\n",
    "        dran = (dran+1)%4\n",
    "        b, placed = turn(dran, b, pr)\n",
    "        if placed and len(used[dran])==moves[dran][-1]: # finished\n",
    "            if pr:\n",
    "                print(used)\n",
    "            return dran\n",
    "        if placed:\n",
    "            last = dran\n",
    "        elif last==dran: # stuck\n",
    "            if pr:\n",
    "                print(used)\n",
    "            return -1\n",
    "    \n",
    "\n",
    "def play_n(ps_, games=10000, pr=False):\n",
    "    global moves\n",
    "    moves = make_moves(ps_)\n",
    "    wins = [0,0,0,0,0]\n",
    "    for _ in range(games):\n",
    "        ps = [p.copy() for p in ps_]\n",
    "        wins[play(ps, pr)] += 1  # play the game\n",
    "    print([round(i/games*100,2) for i in wins])\n",
    "    "
   ]
  },
  {
   "cell_type": "code",
   "execution_count": 239,
   "metadata": {},
   "outputs": [],
   "source": [
    "def play_setup(ps, start=[6,6]):\n",
    "    global moves, wins, TIME, CHAIN, PLAYERS\n",
    "    moves = make_moves(ps)\n",
    "    wins = [0,0,0,0,0]\n",
    "    \n",
    "    u = (set(),set(),set(),set())\n",
    "    p, i = find(ps, *start) \n",
    "    CHAIN = [ps[p][i]]\n",
    "    u[p].add(i)\n",
    "    \n",
    "    TIME = time()\n",
    "    play_r(start, (p+1)%4, u, p)\n",
    "    TIME = time() - TIME\n",
    "    print('Games played:', sum(wins))\n",
    "    print('Time: ', TIME)\n",
    "    print('Results:')\n",
    "    print(wins)\n",
    "    print([i/sum(wins)*100 for i in wins])\n",
    "\n",
    "def play_r(b, p, u, last):\n",
    "    global wins, ps_\n",
    "    \n",
    "    st = moves[p][b[0]].copy()\n",
    "    for s in range(len(st)-1, -1, -1):\n",
    "        if st[s][0] in u[p]:\n",
    "            st.pop(s)\n",
    "            \n",
    "    left = len(st)\n",
    "    \n",
    "    if b[0]!=b[1]:\n",
    "        st += moves[p][b[1]]\n",
    "    for s in range(len(st)-1, left-1, -1):\n",
    "        if st[s][0] in u[p]:\n",
    "            st.pop(s)\n",
    "            \n",
    "    if len(st) == 0:\n",
    "        if p==last:\n",
    "            print(CHAIN[4:], 'Stuck')\n",
    "            wins[4] += 1\n",
    "            #if sum(wins)%1000000 == 0:\n",
    "            #    print(wins)\n",
    "            return\n",
    "        if p<PLAYERS:\n",
    "            CHAIN.append(None)\n",
    "        play_r(b, (p+1)%4, u, last)  #did not place\n",
    "        if p<PLAYERS:\n",
    "            CHAIN.pop()\n",
    "        \n",
    "    for x in rl(st):\n",
    "        u2 = [i.copy() for i in u]\n",
    "        u2[p].add(st[x][0])\n",
    "        if len(u2[p]) == moves[p][-1]: #number of starting pieces\n",
    "            wins[p] += 1\n",
    "            print(CHAIN[4:], p)\n",
    "            #if sum(wins)%1000000 == 0:\n",
    "            #    print(wins)\n",
    "            return\n",
    "        b2 = b.copy()\n",
    "        if x < left:\n",
    "            b2[0] = st[x][1]\n",
    "            CHAIN.append((ps_[p][st[x][0]], 'l'))\n",
    "        else:\n",
    "            b2[1] = st[x][1]\n",
    "            CHAIN.append((ps_[p][st[x][0]], 'r'))\n",
    "        play_r(b2, (p+1)%4, u2, p)\n",
    "        CHAIN.pop()"
   ]
  },
  {
   "cell_type": "code",
   "execution_count": 136,
   "metadata": {
    "collapsed": true
   },
   "outputs": [
    {
     "ename": "IndentationError",
     "evalue": "expected an indented block (<ipython-input-136-bc135f22dc1e>, line 4)",
     "output_type": "error",
     "traceback": [
      "\u001b[0;36m  File \u001b[0;32m\"<ipython-input-136-bc135f22dc1e>\"\u001b[0;36m, line \u001b[0;32m4\u001b[0m\n\u001b[0;31m    def chains(h, b, ):\u001b[0m\n\u001b[0m      ^\u001b[0m\n\u001b[0;31mIndentationError\u001b[0m\u001b[0;31m:\u001b[0m expected an indented block\n"
     ]
    }
   ],
   "source": [
    "def chains_setup(ps):\n",
    "    \n",
    "\n",
    "def chains(h, b, ):\n",
    "    "
   ]
  },
  {
   "cell_type": "code",
   "execution_count": null,
   "metadata": {},
   "outputs": [],
   "source": [
    "CHAIN = []"
   ]
  },
  {
   "cell_type": "code",
   "execution_count": 260,
   "metadata": {},
   "outputs": [],
   "source": [
    "COUNT = 3"
   ]
  },
  {
   "cell_type": "code",
   "execution_count": 244,
   "metadata": {
    "scrolled": false
   },
   "outputs": [
    {
     "name": "stdout",
     "output_type": "stream",
     "text": [
      "[(3, 2), (6, 6)]\n",
      "[(3, 0), (2, 0)]\n"
     ]
    }
   ],
   "source": [
    "#ps_ = deal(0)\n",
    "pprint(ps_)"
   ]
  },
  {
   "cell_type": "code",
   "execution_count": 261,
   "metadata": {},
   "outputs": [],
   "source": [
    "ps_ = [[(1,2), (6,6)], [(0, 1), (0, 2)],[],[]]"
   ]
  },
  {
   "cell_type": "code",
   "execution_count": 262,
   "metadata": {
    "scrolled": true
   },
   "outputs": [
    {
     "data": {
      "text/plain": [
       "{0: {-1: 2, 0: [], 1: [(0, 2)]},\n",
       " 1: {-1: 2, 0: [(0, 1), (1, 2)], 1: [(0, 0)]},\n",
       " 2: {-1: 0, 0: [], 1: []},\n",
       " 3: {-1: 0, 0: [], 1: []}}"
      ]
     },
     "execution_count": 262,
     "metadata": {},
     "output_type": "execute_result"
    }
   ],
   "source": [
    "moves"
   ]
  },
  {
   "cell_type": "code",
   "execution_count": 263,
   "metadata": {
    "scrolled": true
   },
   "outputs": [
    {
     "name": "stdout",
     "output_type": "stream",
     "text": [
      "[] 1\n",
      "[] 1\n",
      "Games played: 2\n",
      "Time:  0.0003299713134765625\n",
      "Results:\n",
      "[0, 2, 0, 0, 0]\n",
      "[0.0, 100.0, 0.0, 0.0, 0.0]\n"
     ]
    }
   ],
   "source": [
    "play_setup(ps_, [1,2])"
   ]
  },
  {
   "cell_type": "markdown",
   "metadata": {},
   "source": [
    "COUNT = 4\n",
    "start = [3,3]\n",
    "33 30 31 -- 00 11 -- 01 12 23     2\n",
    "33 30 31 -- 00 11 -- 10 -- -- 02. 0\n",
    "33 30 31 -- 00 11 -- 02 12 23.    2\n",
    "33 30 31 -- 00 11 -- 02 21 -- 10. 0\n",
    "33 30 31 -- 00 11 -- 02 22 23     2\n",
    "33 30 31 -- 00 12 23              2\n",
    "33 30 31 -- 01 11 -- -- 12 23.    2\n",
    "33 30 31 -- 01 12 23              2\n",
    "33 30 31 -- 10 -- -- 00 -- -- 02. 0\n",
    "33 30 31 -- 10 -- -- 02 21 -- 00. 0\n",
    "33 30 31 -- 10 -- -- 02 22 23.    2\n",
    "33 30 31 -- 02 11 23              2\n",
    "33 30 31 -- 02 12 23              2\n",
    "33 30 31 -- 02 21 -- 10 11 -- 00. 0\n",
    "33 30 31 -- 02 22 23              2"
   ]
  },
  {
   "cell_type": "code",
   "execution_count": 205,
   "metadata": {
    "scrolled": true
   },
   "outputs": [
    {
     "name": "stdout",
     "output_type": "stream",
     "text": [
      "([3, 0, 1, 2], [2, 0], [1], [])\n"
     ]
    },
    {
     "data": {
      "text/plain": [
       "0"
      ]
     },
     "execution_count": 205,
     "metadata": {},
     "output_type": "execute_result"
    }
   ],
   "source": [
    "play(ps_, True, [3,3])"
   ]
  },
  {
   "cell_type": "code",
   "execution_count": 168,
   "metadata": {
    "scrolled": true
   },
   "outputs": [
    {
     "data": {
      "text/plain": [
       "9771542"
      ]
     },
     "execution_count": 168,
     "metadata": {},
     "output_type": "execute_result"
    }
   ],
   "source": [
    "sum(wins)"
   ]
  },
  {
   "cell_type": "code",
   "execution_count": 169,
   "metadata": {
    "scrolled": false
   },
   "outputs": [
    {
     "data": {
      "text/plain": [
       "[2388368, 1987938, 2088692, 1662868, 1643676]"
      ]
     },
     "execution_count": 169,
     "metadata": {},
     "output_type": "execute_result"
    }
   ],
   "source": [
    "wins"
   ]
  },
  {
   "cell_type": "code",
   "execution_count": 170,
   "metadata": {
    "scrolled": true
   },
   "outputs": [
    {
     "data": {
      "text/plain": [
       "[24.442078844874228,\n",
       " 20.344158578042236,\n",
       " 21.37525479601889,\n",
       " 17.017457428929845,\n",
       " 16.8210503521348]"
      ]
     },
     "execution_count": 170,
     "metadata": {},
     "output_type": "execute_result"
    }
   ],
   "source": [
    "[i/sum(wins)*100 for i in wins]"
   ]
  },
  {
   "cell_type": "code",
   "execution_count": 164,
   "metadata": {
    "scrolled": false
   },
   "outputs": [],
   "source": [
    "moves = make_moves(ps_)"
   ]
  },
  {
   "cell_type": "code",
   "execution_count": 177,
   "metadata": {
    "scrolled": true
   },
   "outputs": [
    {
     "data": {
      "text/plain": [
       "{0: {-1: 4,\n",
       "  0: [(0, 0), (1, 1), (2, 2), (3, 3)],\n",
       "  1: [(1, 0)],\n",
       "  2: [(2, 0)],\n",
       "  3: [(3, 0)]},\n",
       " 1: {-1: 4,\n",
       "  0: [],\n",
       "  1: [(0, 1), (1, 2), (2, 3)],\n",
       "  2: [(1, 1), (3, 2)],\n",
       "  3: [(2, 1)]},\n",
       " 2: {-1: 2, 0: [], 1: [], 2: [(0, 3)], 3: [(0, 2), (1, 3)]},\n",
       " 3: {-1: 0, 0: [], 1: [], 2: [], 3: []}}"
      ]
     },
     "execution_count": 177,
     "metadata": {},
     "output_type": "execute_result"
    }
   ],
   "source": [
    "moves"
   ]
  },
  {
   "cell_type": "code",
   "execution_count": 8,
   "metadata": {
    "scrolled": false
   },
   "outputs": [
    {
     "name": "stdout",
     "output_type": "stream",
     "text": [
      "({0, 1, 2, 3, 4, 5, 6}, {0, 2, 3, 5, 6}, {0, 2, 3, 5}, {0, 1, 3, 6})\n"
     ]
    },
    {
     "data": {
      "text/plain": [
       "0"
      ]
     },
     "execution_count": 8,
     "metadata": {},
     "output_type": "execute_result"
    }
   ],
   "source": [
    "play(ps_, True)"
   ]
  },
  {
   "cell_type": "code",
   "execution_count": 16,
   "metadata": {
    "scrolled": false
   },
   "outputs": [
    {
     "name": "stdout",
     "output_type": "stream",
     "text": [
      "[20.0, 41.37, 5.79, 5.46, 27.38]\n",
      "1.1798899173736572\n",
      "[19.26, 41.69, 5.82, 5.53, 27.7]\n",
      "1.203212022781372\n",
      "[19.63, 42.16, 5.83, 5.46, 26.92]\n",
      "1.168031930923462\n",
      "[19.99, 40.43, 6.25, 5.42, 27.91]\n",
      "1.219815969467163\n",
      "[19.7, 41.35, 5.85, 5.24, 27.86]\n",
      "1.3578920364379883\n"
     ]
    }
   ],
   "source": [
    "times = []\n",
    "for i in range(5):\n",
    "    t = time()\n",
    "    play_n(ps_, 10000)\n",
    "    times.append(time() - t)\n",
    "    print(times[-1])"
   ]
  },
  {
   "cell_type": "code",
   "execution_count": 101,
   "metadata": {
    "scrolled": true
   },
   "outputs": [
    {
     "data": {
      "text/plain": [
       "[2, 2, 2, 1]"
      ]
     },
     "execution_count": 101,
     "metadata": {},
     "output_type": "execute_result"
    }
   ],
   "source": [
    "[len(list(filter(lambda x: x[0]==x[1], p))) for p in ps_] #mule count"
   ]
  },
  {
   "cell_type": "code",
   "execution_count": 192,
   "metadata": {},
   "outputs": [],
   "source": [
    "def turn(p, b, pr):\n",
    "    global ps_\n",
    "    st = moves[p][b[0]].copy()\n",
    "    for s in range(len(st)-1, -1, -1):\n",
    "        if st[s][0] in used[p]:\n",
    "            st.pop(s)\n",
    "    \n",
    "    left = len(st)\n",
    "    \n",
    "    if pr:\n",
    "        print(\"\\nboard: {}\".format(b))\n",
    "    \n",
    "    if b[0]!=b[1]:\n",
    "        st += moves[p][b[1]]\n",
    "    for s in range(len(st)-1, left-1, -1):\n",
    "        if st[s][0] in used[p]:\n",
    "            st.pop(s)\n",
    "            \n",
    "    if pr:\n",
    "        print(\"player {} has pieces {}\".format(p, [ps_[p][i] for i in set(range(moves[p][-1])).difference(used[p])]))\n",
    "        print(\"player {} can place {}\".format(p, [ps_[p][i[0]] for i in st]))\n",
    "    if len(st) == 0:\n",
    "        if pr:\n",
    "            print(\"player {} passed\".format(p))\n",
    "        return b, False  #did not place\n",
    "    \n",
    "    ### branches\n",
    "    #x = choose(pl, st)\n",
    "    x = randint(0, len(st)-1)\n",
    "    \n",
    "    used[p].add(st[x][0]) #use up index\n",
    "    if x < left:\n",
    "        b[0] = st[x][1]\n",
    "    else:\n",
    "        b[1] = st[x][1]\n",
    "    if pr:\n",
    "        print(\"player {} placed {}\".format(p, ps_[p][st[x][0]]))\n",
    "    return b, True        #did place"
   ]
  },
  {
   "cell_type": "code",
   "execution_count": null,
   "metadata": {},
   "outputs": [],
   "source": []
  }
 ],
 "metadata": {
  "kernelspec": {
   "display_name": "Python 3",
   "language": "python",
   "name": "python3"
  },
  "language_info": {
   "codemirror_mode": {
    "name": "ipython",
    "version": 3
   },
   "file_extension": ".py",
   "mimetype": "text/x-python",
   "name": "python",
   "nbconvert_exporter": "python",
   "pygments_lexer": "ipython3",
   "version": "3.6.4"
  }
 },
 "nbformat": 4,
 "nbformat_minor": 2
}
